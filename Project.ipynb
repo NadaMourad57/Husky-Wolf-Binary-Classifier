{
 "cells": [
  {
   "cell_type": "markdown",
   "metadata": {},
   "source": [
    "#first we integerate the data and label using panda an os libraries"
   ]
  },
  {
   "cell_type": "code",
   "execution_count": 23,
   "metadata": {},
   "outputs": [
    {
     "name": "stdout",
     "output_type": "stream",
     "text": [
      "<bound method NDFrame.head of                                            image_path  label\n",
      "0   C:\\Users\\mohamed\\OneDrive\\Desktop\\Husky_Wolf p...      0\n",
      "1   C:\\Users\\mohamed\\OneDrive\\Desktop\\Husky_Wolf p...      0\n",
      "2   C:\\Users\\mohamed\\OneDrive\\Desktop\\Husky_Wolf p...      0\n",
      "3   C:\\Users\\mohamed\\OneDrive\\Desktop\\Husky_Wolf p...      0\n",
      "4   C:\\Users\\mohamed\\OneDrive\\Desktop\\Husky_Wolf p...      0\n",
      "..                                                ...    ...\n",
      "95  C:\\Users\\mohamed\\OneDrive\\Desktop\\Husky_Wolf p...      1\n",
      "96  C:\\Users\\mohamed\\OneDrive\\Desktop\\Husky_Wolf p...      1\n",
      "97  C:\\Users\\mohamed\\OneDrive\\Desktop\\Husky_Wolf p...      1\n",
      "98  C:\\Users\\mohamed\\OneDrive\\Desktop\\Husky_Wolf p...      1\n",
      "99  C:\\Users\\mohamed\\OneDrive\\Desktop\\Husky_Wolf p...      1\n",
      "\n",
      "[100 rows x 2 columns]>\n"
     ]
    }
   ],
   "source": [
    "import os\n",
    "import pandas as pd\n",
    "\n",
    "dataset_path = \"C:\\\\Users\\\\mohamed\\\\OneDrive\\\\Desktop\\\\Husky_Wolf project\\\\dataset\"\n",
    "categories = [\"huskies\", \"wolves\"]\n",
    "data = []\n",
    "for category in categories:\n",
    "    folder_path = os.path.join(dataset_path, category) \n",
    "    label = categories.index(category)\n",
    "    for image_name in os.listdir(folder_path):\n",
    "        image_path = os.path.join(folder_path, image_name)\n",
    "        data.append([image_path, label])  # Store path and label\n",
    "images = pd.DataFrame(data, columns=[\"image_path\", \"label\"])\n",
    "print(images.head)\n"
   ]
  },
  {
   "cell_type": "code",
   "execution_count": 24,
   "metadata": {},
   "outputs": [
    {
     "name": "stdout",
     "output_type": "stream",
     "text": [
      "                                           image_path  label\n",
      "15  C:\\Users\\mohamed\\OneDrive\\Desktop\\Husky_Wolf p...      0\n",
      "52  C:\\Users\\mohamed\\OneDrive\\Desktop\\Husky_Wolf p...      1\n",
      "60  C:\\Users\\mohamed\\OneDrive\\Desktop\\Husky_Wolf p...      1\n",
      "66  C:\\Users\\mohamed\\OneDrive\\Desktop\\Husky_Wolf p...      1\n",
      "68  C:\\Users\\mohamed\\OneDrive\\Desktop\\Husky_Wolf p...      1\n"
     ]
    }
   ],
   "source": [
    "from sklearn.model_selection import train_test_split\n",
    "\n",
    "train_im, test_im = train_test_split(images, test_size=0.2, random_state=42, stratify=images[\"label\"])\n",
    "print(train_im.head())\n"
   ]
  },
  {
   "cell_type": "markdown",
   "metadata": {},
   "source": [
    "now we need to preprocess the dataset"
   ]
  },
  {
   "cell_type": "code",
   "execution_count": null,
   "metadata": {},
   "outputs": [],
   "source": [
    "import torch  \n",
    "from torch.utils.data import Dataset, DataLoader  \n",
    "from torchvision import transforms  \n",
    "import cv2 \n",
    "import albumentations as A  \n",
    "from albumentations.pytorch import ToTensorV2  \n",
    "# Define augmentation transformations for training data\n",
    "train_transforms = A.Compose([\n",
    "    A.Resize(128, 128),  \n",
    "    A.HorizontalFlip(p=0.5),  \n",
    "    A.RandomBrightnessContrast(p=0.2),\n",
    "    A.Rotate(limit=20, p=0.5),  \n",
    "    A.RandomResizedCrop(size=(128, 128), scale=(0.8, 1.0), ratio=(0.75, 1.33), p=0.5),  \n",
    "    A.Normalize(mean=[0.5, 0.5, 0.5], std=[0.5, 0.5, 0.5]), \n",
    "    ToTensorV2(), \n",
    "    ])\n",
    "test_transforms = A.Compose([\n",
    "    A.Resize(128, 128), \n",
    "    A.Normalize(mean=[0.5, 0.5, 0.5], std=[0.5, 0.5, 0.5]),  \n",
    "    ToTensorV2(), \n",
    "])\n",
    "\n"
   ]
  },
  {
   "cell_type": "markdown",
   "metadata": {},
   "source": [
    "creating dataset class"
   ]
  },
  {
   "cell_type": "code",
   "execution_count": 30,
   "metadata": {},
   "outputs": [],
   "source": [
    "class HuskyWolfDataset(Dataset):\n",
    "    def __init__(self, dataframe, transform=None):\n",
    "        self.dataframe = dataframe  \n",
    "        self.transform = transform \n",
    "    def __len__(self):\n",
    "        return len(self.dataframe)  \n",
    "    def __getitem__(self, index):\n",
    "        image_path = self.dataframe.iloc[index][\"image_path\"]  \n",
    "        label = self.dataframe.iloc[index][\"label\"]  \n",
    "\n",
    "        # Load image using OpenCV\n",
    "        image = cv2.imread(image_path)  # Read image (BGR format)\n",
    "        image = cv2.cvtColor(image, cv2.COLOR_BGR2RGB)  # Convert to RGB\n",
    "\n",
    "        # Apply transformations (if any)\n",
    "        if self.transform:\n",
    "            augmented = self.transform(image=image)  # Apply transformations\n",
    "            image = augmented[\"image\"]\n",
    "\n",
    "        return image, torch.tensor(label, dtype=torch.long)  # Return image & label as tensors\n"
   ]
  },
  {
   "cell_type": "markdown",
   "metadata": {},
   "source": [
    "making instance of it"
   ]
  },
  {
   "cell_type": "code",
   "execution_count": 29,
   "metadata": {},
   "outputs": [],
   "source": [
    "train_dataset = HuskyWolfDataset(train_im, transform=train_transforms)  \n",
    "test_dataset = HuskyWolfDataset(test_im, transform=test_transforms)  \n",
    "\n",
    "\n",
    "# Create DataLoader for batching\n",
    "train_loader = DataLoader(train_dataset, batch_size=20, shuffle=True)\n",
    "test_loader = DataLoader(test_dataset, batch_size=20, shuffle=False)\n"
   ]
  }
 ],
 "metadata": {
  "kernelspec": {
   "display_name": "Python 3",
   "language": "python",
   "name": "python3"
  },
  "language_info": {
   "codemirror_mode": {
    "name": "ipython",
    "version": 3
   },
   "file_extension": ".py",
   "mimetype": "text/x-python",
   "name": "python",
   "nbconvert_exporter": "python",
   "pygments_lexer": "ipython3",
   "version": "3.13.2"
  }
 },
 "nbformat": 4,
 "nbformat_minor": 2
}
